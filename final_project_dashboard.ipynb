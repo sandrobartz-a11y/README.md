{
 "cells": [
  {
   "cell_type": "markdown",
   "id": "fcd31c4b",
   "metadata": {},
   "source": [
    "# Final Project: Analyzing Historical Stock/Revenue Data and Building a Dashboard"
   ]
  },
  {
   "cell_type": "markdown",
   "id": "d3b84094",
   "metadata": {},
   "source": [
    "Este notebook contém as etapas do projeto final do curso IBM/Coursera: *Python Project for Data Science*. O objetivo é extrair dados de ações e receitas da Tesla e GameStop e construir dashboards comparativos."
   ]
  },
  {
   "cell_type": "markdown",
   "id": "f3406a2d",
   "metadata": {},
   "source": [
    "## Question 2: Use Webscraping to Extract Tesla Revenue Data\n",
    "Exibir as últimas cinco linhas do dataframe `tesla_revenue` usando a função `tail`."
   ]
  },
  {
   "cell_type": "code",
   "execution_count": null,
   "id": "063cf5ab",
   "metadata": {},
   "outputs": [],
   "source": [
    "\n",
    "import pandas as pd\n",
    "import requests\n",
    "from bs4 import BeautifulSoup\n",
    "\n",
    "# URL da Tesla no Macrotrends\n",
    "url_tesla = \"https://www.macrotrends.net/stocks/charts/TSLA/tesla/revenue\"\n",
    "html_data = requests.get(url_tesla).text\n",
    "\n",
    "# Parse do HTML\n",
    "soup = BeautifulSoup(html_data, \"html.parser\")\n",
    "tables = soup.find_all(\"table\")\n",
    "\n",
    "# Encontrar a tabela correta\n",
    "for table in tables:\n",
    "    if \"Tesla Quarterly Revenue\" in str(table):\n",
    "        tesla_revenue = pd.read_html(str(table))[0]\n",
    "        break\n",
    "\n",
    "# Limpar e renomear colunas\n",
    "tesla_revenue.columns = [\"Date\", \"Revenue\"]\n",
    "tesla_revenue = tesla_revenue[tesla_revenue[\"Revenue\"] != \"\"]\n",
    "tesla_revenue[\"Revenue\"] = tesla_revenue[\"Revenue\"].str.replace(\"$\", \"\").str.replace(\",\", \"\")\n",
    "tesla_revenue[\"Revenue\"] = pd.to_numeric(tesla_revenue[\"Revenue\"])\n",
    "\n",
    "# Exibir as últimas 5 linhas\n",
    "tesla_revenue.tail()\n"
   ]
  },
  {
   "cell_type": "markdown",
   "id": "8c4ac8ad",
   "metadata": {},
   "source": [
    "## Question 4: Use Webscraping to Extract GameStop Revenue Data\n",
    "Exibir as últimas cinco linhas do dataframe `gme_revenue` usando a função `tail`."
   ]
  },
  {
   "cell_type": "code",
   "execution_count": null,
   "id": "8f61b9c6",
   "metadata": {},
   "outputs": [],
   "source": [
    "\n",
    "# URL da GameStop no Macrotrends\n",
    "url_gme = \"https://www.macrotrends.net/stocks/charts/GME/gamestop/revenue\"\n",
    "html_data_gme = requests.get(url_gme).text\n",
    "\n",
    "# Parse do HTML\n",
    "soup_gme = BeautifulSoup(html_data_gme, \"html.parser\")\n",
    "tables_gme = soup_gme.find_all(\"table\")\n",
    "\n",
    "# Encontrar a tabela correta\n",
    "for table in tables_gme:\n",
    "    if \"GameStop Quarterly Revenue\" in str(table):\n",
    "        gme_revenue = pd.read_html(str(table))[0]\n",
    "        break\n",
    "\n",
    "# Limpar e renomear colunas\n",
    "gme_revenue.columns = [\"Date\", \"Revenue\"]\n",
    "gme_revenue = gme_revenue[gme_revenue[\"Revenue\"] != \"\"]\n",
    "gme_revenue[\"Revenue\"] = gme_revenue[\"Revenue\"].str.replace(\"$\", \"\").str.replace(\",\", \"\")\n",
    "gme_revenue[\"Revenue\"] = pd.to_numeric(gme_revenue[\"Revenue\"])\n",
    "\n",
    "# Exibir as últimas 5 linhas\n",
    "gme_revenue.tail()\n"
   ]
  }
 ],
 "metadata": {},
 "nbformat": 4,
 "nbformat_minor": 5
}
